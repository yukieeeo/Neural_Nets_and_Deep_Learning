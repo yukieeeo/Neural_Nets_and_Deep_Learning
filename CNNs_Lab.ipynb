{
 "cells": [
  {
   "cell_type": "code",
   "execution_count": 1,
   "metadata": {
    "id": "7oeTRribu75d"
   },
   "outputs": [],
   "source": [
    "import numpy as np\n",
    "import matplotlib.pyplot as plt\n",
    "import tensorflow as tf\n",
    "import tensorflow.keras as tfk\n",
    "import tensorflow_datasets as tfds\n",
    "from tensorflow.data.experimental import sample_from_datasets\n",
    "\n",
    "tfkl = tfk.layers"
   ]
  },
  {
   "cell_type": "markdown",
   "metadata": {
    "id": "Qv0GpRAru98a"
   },
   "source": [
    "**Preprocessing**\n",
    "\n",
    "As typical, we'll start with the MNIST data. Recall from last time, we have to do some transformations and preprocessing on these images."
   ]
  },
  {
   "cell_type": "code",
   "execution_count": 2,
   "metadata": {
    "id": "VzZgrGQivHMh"
   },
   "outputs": [],
   "source": [
    "data, info = tfds.load('mnist', with_info=True)"
   ]
  },
  {
   "cell_type": "code",
   "execution_count": 3,
   "metadata": {
    "id": "9UIPvj-sFxU2"
   },
   "outputs": [],
   "source": [
    "preprocess = lambda d: (tf.cast(d[\"image\"], tf.float32)/255, tf.one_hot(d[\"label\"], depth=10))\n",
    "\n",
    "ds_train = data[\"train\"].map(preprocess).cache().batch(32)\n",
    "ds_test = data[\"test\"].map(preprocess).cache().batch(32)"
   ]
  },
  {
   "cell_type": "code",
   "execution_count": 4,
   "metadata": {
    "id": "rVxvHMXTGzXo"
   },
   "outputs": [],
   "source": [
    "img_shape = info.features['image'].shape"
   ]
  },
  {
   "cell_type": "code",
   "execution_count": 5,
   "metadata": {
    "colab": {
     "base_uri": "https://localhost:8080/"
    },
    "id": "9k9r8vw9HDNt",
    "outputId": "0ddaf28e-f80c-4d7d-da24-825cee071321"
   },
   "outputs": [
    {
     "data": {
      "text/plain": [
       "(28, 28, 1)"
      ]
     },
     "execution_count": 5,
     "metadata": {},
     "output_type": "execute_result"
    }
   ],
   "source": [
    "img_shape"
   ]
  },
  {
   "cell_type": "markdown",
   "metadata": {
    "id": "CWYDJz0tWnH2"
   },
   "source": [
    "**CNNs in TF Keras**\n",
    "\n",
    "We'll use the Sequential class rely on new layer types that correspond to concepts we covered in lecture: Conv2D, AvgPool2D, MaxPool2D. \n",
    "\n",
    "Details such as kernel size, padding, strides and so on must be specified as args to these classes, where appropriate."
   ]
  },
  {
   "cell_type": "code",
   "execution_count": 6,
   "metadata": {
    "id": "B9DgLXVCHDt7"
   },
   "outputs": [],
   "source": [
    "model = tfk.Sequential()\n",
    "model.add(tfkl.Conv2D(filters = 1, kernel_size=(3,3), strides=(1,1), \n",
    "                      padding=\"valid\", activation='relu', input_shape=(28, 28, 1)))\n",
    "model.add(tfkl.MaxPool2D(pool_size=(4,4)))\n",
    "model.add(tfkl.Flatten())\n",
    "model.add(tfkl.Dense(10, activation='softmax'))"
   ]
  },
  {
   "cell_type": "code",
   "execution_count": 7,
   "metadata": {
    "colab": {
     "base_uri": "https://localhost:8080/"
    },
    "id": "2Af5cnJ9JDvA",
    "outputId": "673fd57c-a870-4160-a0e1-1130d61c04c2"
   },
   "outputs": [
    {
     "name": "stdout",
     "output_type": "stream",
     "text": [
      "Model: \"sequential\"\n",
      "_________________________________________________________________\n",
      "Layer (type)                 Output Shape              Param #   \n",
      "=================================================================\n",
      "conv2d (Conv2D)              (None, 26, 26, 1)         10        \n",
      "_________________________________________________________________\n",
      "max_pooling2d (MaxPooling2D) (None, 6, 6, 1)           0         \n",
      "_________________________________________________________________\n",
      "flatten (Flatten)            (None, 36)                0         \n",
      "_________________________________________________________________\n",
      "dense (Dense)                (None, 10)                370       \n",
      "=================================================================\n",
      "Total params: 380\n",
      "Trainable params: 380\n",
      "Non-trainable params: 0\n",
      "_________________________________________________________________\n"
     ]
    }
   ],
   "source": [
    "model.summary()"
   ]
  },
  {
   "cell_type": "code",
   "execution_count": 8,
   "metadata": {
    "id": "p5W4C452HThh"
   },
   "outputs": [
    {
     "name": "stdout",
     "output_type": "stream",
     "text": [
      "Epoch 1/20\n",
      "20/20 [==============================] - 1s 70ms/step - loss: 2.3189 - val_loss: 2.3062\n",
      "Epoch 2/20\n",
      "20/20 [==============================] - 1s 33ms/step - loss: 2.2959 - val_loss: 2.2895\n",
      "Epoch 3/20\n",
      "20/20 [==============================] - 1s 33ms/step - loss: 2.2827 - val_loss: 2.2736\n",
      "Epoch 4/20\n",
      "20/20 [==============================] - 1s 32ms/step - loss: 2.2582 - val_loss: 2.2577\n",
      "Epoch 5/20\n",
      "20/20 [==============================] - 1s 31ms/step - loss: 2.2535 - val_loss: 2.2418\n",
      "Epoch 6/20\n",
      "20/20 [==============================] - 1s 34ms/step - loss: 2.2214 - val_loss: 2.2231\n",
      "Epoch 7/20\n",
      "20/20 [==============================] - 1s 33ms/step - loss: 2.2082 - val_loss: 2.2038\n",
      "Epoch 8/20\n",
      "20/20 [==============================] - 1s 34ms/step - loss: 2.1954 - val_loss: 2.1833\n",
      "Epoch 9/20\n",
      "20/20 [==============================] - 1s 34ms/step - loss: 2.1564 - val_loss: 2.1600\n",
      "Epoch 10/20\n",
      "20/20 [==============================] - 1s 32ms/step - loss: 2.1463 - val_loss: 2.1351\n",
      "Epoch 11/20\n",
      "20/20 [==============================] - 1s 32ms/step - loss: 2.1318 - val_loss: 2.1101\n",
      "Epoch 12/20\n",
      "20/20 [==============================] - 1s 36ms/step - loss: 2.0968 - val_loss: 2.0835\n",
      "Epoch 13/20\n",
      "20/20 [==============================] - 1s 33ms/step - loss: 2.0664 - val_loss: 2.0559\n",
      "Epoch 14/20\n",
      "20/20 [==============================] - 1s 37ms/step - loss: 2.0463 - val_loss: 2.0276\n",
      "Epoch 15/20\n",
      "20/20 [==============================] - 1s 33ms/step - loss: 2.0138 - val_loss: 1.9986\n",
      "Epoch 16/20\n",
      "20/20 [==============================] - 1s 32ms/step - loss: 1.9855 - val_loss: 1.9699\n",
      "Epoch 17/20\n",
      "20/20 [==============================] - 1s 33ms/step - loss: 1.9393 - val_loss: 1.9384\n",
      "Epoch 18/20\n",
      "20/20 [==============================] - 1s 31ms/step - loss: 1.9084 - val_loss: 1.9080\n",
      "Epoch 19/20\n",
      "20/20 [==============================] - 1s 32ms/step - loss: 1.8930 - val_loss: 1.8773\n",
      "Epoch 20/20\n",
      "20/20 [==============================] - 1s 33ms/step - loss: 1.8515 - val_loss: 1.8467\n"
     ]
    }
   ],
   "source": [
    "model.compile(\n",
    "    optimizer=tfk.optimizers.RMSprop(),\n",
    "    loss=tfk.losses.CategoricalCrossentropy(),\n",
    ")\n",
    "\n",
    "results = model.fit(ds_train, steps_per_epoch=20, epochs=20, validation_data=ds_test)"
   ]
  },
  {
   "cell_type": "code",
   "execution_count": 9,
   "metadata": {
    "id": "VT_6GoNOH1MC"
   },
   "outputs": [
    {
     "data": {
      "text/plain": [
       "<matplotlib.legend.Legend at 0x64559e290>"
      ]
     },
     "execution_count": 9,
     "metadata": {},
     "output_type": "execute_result"
    },
    {
     "data": {
      "image/png": "[encoded data removed]",
      "text/plain": [
       "<Figure size 432x288 with 1 Axes>"
      ]
     },
     "metadata": {
      "needs_background": "light"
     },
     "output_type": "display_data"
    }
   ],
   "source": [
    "plt.plot(results.history[\"loss\"])\n",
    "plt.plot(results.history[\"val_loss\"])\n",
    "plt.legend(labels=[\"train\", \"val\"])"
   ]
  },
  {
   "cell_type": "code",
   "execution_count": 10,
   "metadata": {
    "id": "9s7VuiBmPNuB"
   },
   "outputs": [
    {
     "name": "stderr",
     "output_type": "stream",
     "text": [
      "/opt/anaconda3/lib/python3.7/site-packages/ipykernel_launcher.py:1: UserWarning: In Matplotlib 3.3 individual lines on a stem plot will be added as a LineCollection instead of individual lines. This significantly improves the performance of a stem plot. To remove this warning and switch to the new behaviour, set the \"use_line_collection\" keyword argument to True.\n",
      "  \"\"\"Entry point for launching an IPython kernel.\n"
     ]
    },
    {
     "data": {
      "text/plain": [
       "Text(0.5, 0, 'Probability')"
      ]
     },
     "execution_count": 10,
     "metadata": {},
     "output_type": "execute_result"
    },
    {
     "data": {
      "image/png": "[encoded data removed]",
      "text/plain": [
       "<Figure size 432x288 with 1 Axes>"
      ]
     },
     "metadata": {
      "needs_background": "light"
     },
     "output_type": "display_data"
    }
   ],
   "source": [
    "plt.stem(model.predict(ds_test.take(1))[9, :])\n",
    "plt.xlabel(\"Digit\")\n",
    "plt.xlabel(\"Probability\")"
   ]
  },
  {
   "cell_type": "markdown",
   "metadata": {
    "id": "WBc0TsgEWcd2"
   },
   "source": [
    "Which architectural hyperparameters might we change in the above?"
   ]
  },
  {
   "cell_type": "markdown",
   "metadata": {
    "id": "PBY6bJSeIPYC"
   },
   "source": [
    "\n",
    "\n",
    "**Exercise - Deep CNN**\n",
    "\n",
    "Build and fit your own CNN model with 3 convolutional **modules**, where each one contains:\n",
    "  * kernel convolution \n",
    "    * you pick number of kernels\n",
    "    * you pick kernel shape/size\n",
    "    * you pick activation\n",
    "  * pooling\n",
    "  * dropout\n",
    "\n",
    "We'll use the Fashion MNIST dataset, a low-res collection of images of clothing."
   ]
  },
  {
   "cell_type": "code",
   "execution_count": 11,
   "metadata": {
    "id": "BbhcW5QAN2Tz"
   },
   "outputs": [
    {
     "name": "stdout",
     "output_type": "stream",
     "text": [
      "Downloading data from https://storage.googleapis.com/tensorflow/tf-keras-datasets/train-labels-idx1-ubyte.gz\n",
      "32768/29515 [=================================] - 0s 1us/step\n",
      "Downloading data from https://storage.googleapis.com/tensorflow/tf-keras-datasets/train-images-idx3-ubyte.gz\n",
      "26427392/26421880 [==============================] - 1s 0us/step\n",
      "Downloading data from https://storage.googleapis.com/tensorflow/tf-keras-datasets/t10k-labels-idx1-ubyte.gz\n",
      "8192/5148 [===============================================] - 0s 0us/step\n",
      "Downloading data from https://storage.googleapis.com/tensorflow/tf-keras-datasets/t10k-images-idx3-ubyte.gz\n",
      "4423680/4422102 [==============================] - 0s 0us/step\n"
     ]
    }
   ],
   "source": [
    "train, test = tf.keras.datasets.fashion_mnist.load_data()\n",
    "\n",
    "images, labels = train\n",
    "images = images/255.0\n",
    "images = images[:, :, :, np.newaxis]\n",
    "labels = labels.astype(np.int32)\n",
    "\n",
    "# optional - TF Datasets objects\n",
    "# fmnist_train_ds = tf.data.Dataset.from_tensor_slices((images, labels))\n",
    "# fmnist_train_ds = fmnist_train_ds.shuffle(5000).batch(32)\n"
   ]
  },
  {
   "cell_type": "code",
   "execution_count": 12,
   "metadata": {
    "id": "-B589FNlTKOR"
   },
   "outputs": [
    {
     "data": {
      "text/plain": [
       "<matplotlib.image.AxesImage at 0x6466ddd10>"
      ]
     },
     "execution_count": 12,
     "metadata": {},
     "output_type": "execute_result"
    },
    {
     "data": {
      "image/png": "[encoded data removed]",
      "text/plain": [
       "<Figure size 432x288 with 1 Axes>"
      ]
     },
     "metadata": {
      "needs_background": "light"
     },
     "output_type": "display_data"
    }
   ],
   "source": [
    "plt.imshow(images[3, :, :, :].squeeze())"
   ]
  },
  {
   "cell_type": "code",
   "execution_count": 13,
   "metadata": {
    "id": "hJK4H78OOWZG"
   },
   "outputs": [],
   "source": [
    "# your code here"
   ]
  },
  {
   "cell_type": "markdown",
   "metadata": {
    "id": "W12xD44Q-EdB"
   },
   "source": []
  },
  {
   "cell_type": "markdown",
   "metadata": {
    "id": "g9eYdiPA-EhK"
   },
   "source": [
    "\n",
    "#|**Exercise - Transfer Learning**\n",
    "\n"
   ]
  },
  {
   "cell_type": "code",
   "execution_count": 14,
   "metadata": {
    "id": "DkUc8JGCIGWo"
   },
   "outputs": [
    {
     "name": "stdout",
     "output_type": "stream",
     "text": [
      "\u001b[1mDownloading and preparing dataset rock_paper_scissors/3.0.0 (download: 219.53 MiB, generated: Unknown size, total: 219.53 MiB) to /Users/YukiZ./tensorflow_datasets/rock_paper_scissors/3.0.0...\u001b[0m\n"
     ]
    },
    {
     "data": {
      "application/vnd.jupyter.widget-view+json": {
       "model_id": "256c49744d4342a48e9301cd44cbdc0c",
       "version_major": 2,
       "version_minor": 0
      },
      "text/plain": [
       "HBox(children=(FloatProgress(value=1.0, bar_style='info', description='Dl Completed...', max=1.0, style=Progre…"
      ]
     },
     "metadata": {},
     "output_type": "display_data"
    },
    {
     "data": {
      "application/vnd.jupyter.widget-view+json": {
       "model_id": "f8a5b1c12a3b4465aedb259d30d16a74",
       "version_major": 2,
       "version_minor": 0
      },
      "text/plain": [
       "HBox(children=(FloatProgress(value=1.0, bar_style='info', description='Dl Size...', max=1.0, style=ProgressSty…"
      ]
     },
     "metadata": {},
     "output_type": "display_data"
    },
    {
     "name": "stdout",
     "output_type": "stream",
     "text": [
      "\n",
      "\n",
      "\n",
      "\n"
     ]
    },
    {
     "data": {
      "application/vnd.jupyter.widget-view+json": {
       "model_id": "",
       "version_major": 2,
       "version_minor": 0
      },
      "text/plain": [
       "HBox(children=(FloatProgress(value=1.0, bar_style='info', max=1.0), HTML(value='')))"
      ]
     },
     "metadata": {},
     "output_type": "display_data"
    },
    {
     "name": "stdout",
     "output_type": "stream",
     "text": [
      "\r",
      "Shuffling and writing examples to /Users/YukiZ./tensorflow_datasets/rock_paper_scissors/3.0.0.incomplete9XBWVL/rock_paper_scissors-train.tfrecord\n"
     ]
    },
    {
     "data": {
      "application/vnd.jupyter.widget-view+json": {
       "model_id": "ba41de7b8f2343038ebc0ba527b0889a",
       "version_major": 2,
       "version_minor": 0
      },
      "text/plain": [
       "HBox(children=(FloatProgress(value=0.0, max=2520.0), HTML(value='')))"
      ]
     },
     "metadata": {},
     "output_type": "display_data"
    },
    {
     "name": "stdout",
     "output_type": "stream",
     "text": [
      "\r"
     ]
    },
    {
     "data": {
      "application/vnd.jupyter.widget-view+json": {
       "model_id": "",
       "version_major": 2,
       "version_minor": 0
      },
      "text/plain": [
       "HBox(children=(FloatProgress(value=1.0, bar_style='info', max=1.0), HTML(value='')))"
      ]
     },
     "metadata": {},
     "output_type": "display_data"
    },
    {
     "name": "stdout",
     "output_type": "stream",
     "text": [
      "\r",
      "Shuffling and writing examples to /Users/YukiZ./tensorflow_datasets/rock_paper_scissors/3.0.0.incomplete9XBWVL/rock_paper_scissors-test.tfrecord\n"
     ]
    },
    {
     "data": {
      "application/vnd.jupyter.widget-view+json": {
       "model_id": "1a1ccdf540664a9290dc4dbf8bca133e",
       "version_major": 2,
       "version_minor": 0
      },
      "text/plain": [
       "HBox(children=(FloatProgress(value=0.0, max=372.0), HTML(value='')))"
      ]
     },
     "metadata": {},
     "output_type": "display_data"
    },
    {
     "name": "stdout",
     "output_type": "stream",
     "text": [
      "\u001b[1mDataset rock_paper_scissors downloaded and prepared to /Users/YukiZ./tensorflow_datasets/rock_paper_scissors/3.0.0. Subsequent calls will reuse this data.\u001b[0m\n",
      "\r"
     ]
    }
   ],
   "source": [
    "data, info = tfds.load('rock_paper_scissors', with_info=True)\n",
    "train_data = data[\"train\"].map(lambda x: (tf.cast(x[\"image\"], tf.float32) / 255., tf.one_hot(x[\"label\"], depth=3) )).batch(32)"
   ]
  },
  {
   "cell_type": "code",
   "execution_count": 15,
   "metadata": {
    "colab": {
     "base_uri": "https://localhost:8080/"
    },
    "id": "r-se782jRmac",
    "outputId": "8d9a80e8-422f-4044-c7b9-6b80578b2ce2"
   },
   "outputs": [
    {
     "data": {
      "text/plain": [
       "(300, 300, 3)"
      ]
     },
     "execution_count": 15,
     "metadata": {},
     "output_type": "execute_result"
    }
   ],
   "source": [
    "info.features['image'].shape"
   ]
  },
  {
   "cell_type": "code",
   "execution_count": null,
   "metadata": {
    "colab": {
     "base_uri": "https://localhost:8080/",
     "height": 1000
    },
    "id": "Z_40TWUfJjwb",
    "outputId": "e41b995c-11b4-441b-a3a5-905f432e9e44"
   },
   "outputs": [],
   "source": [
    "tfds.as_dataframe(data[\"train\"].take(10), info)"
   ]
  },
  {
   "cell_type": "markdown",
   "metadata": {
    "id": "d4sSFw6gNxy6"
   },
   "source": [
    "# Exercise"
   ]
  },
  {
   "cell_type": "markdown",
   "metadata": {
    "id": "LMiw4iStCLQR"
   },
   "source": [
    "1. Build a deep CNN model and train it for this binary classification task. Fit the model using the small dataset of 500 samples, *train_data*.\n",
    "\n",
    "What accuracy can your model acheive on the training data?"
   ]
  },
  {
   "cell_type": "code",
   "execution_count": null,
   "metadata": {
    "id": "UMzYZe2ENtcm"
   },
   "outputs": [],
   "source": [
    "# Your code here\n",
    "\n"
   ]
  },
  {
   "cell_type": "markdown",
   "metadata": {
    "id": "V78s2BoTCNoz"
   },
   "source": [
    " 2. Now use transfer learning by incorporating the pretrained VGG16 model."
   ]
  },
  {
   "cell_type": "code",
   "execution_count": null,
   "metadata": {
    "id": "5fpD87Dz-yIM"
   },
   "outputs": [],
   "source": [
    "from tensorflow.keras.applications import VGG16"
   ]
  },
  {
   "cell_type": "code",
   "execution_count": null,
   "metadata": {
    "id": "8aVDe90h-61E"
   },
   "outputs": [],
   "source": [
    "conv_base = VGG16(weights=\"imagenet\",include_top=False,input_shape=(300,300,3))"
   ]
  },
  {
   "cell_type": "markdown",
   "metadata": {
    "id": "KXVbPif8BrXs"
   },
   "source": [
    "Build a Sequential model, using our VGG16 base. Make sure the freeze the weights of the convolutional backbone, but leave the remainder of the network weights as learnable. Fit this model and compare the overall accuracy as well as the loss curves (efficiency).\n"
   ]
  },
  {
   "cell_type": "code",
   "execution_count": null,
   "metadata": {
    "id": "u1Tp_sHrCiIt"
   },
   "outputs": [],
   "source": [
    "# Your code here"
   ]
  },
  {
   "cell_type": "code",
   "execution_count": null,
   "metadata": {},
   "outputs": [],
   "source": []
  }
 ],
 "metadata": {
  "colab": {
   "name": "CNNs Lab.ipynb",
   "provenance": []
  },
  "kernelspec": {
   "display_name": "Python 3",
   "language": "python",
   "name": "python3"
  },
  "language_info": {
   "codemirror_mode": {
    "name": "ipython",
    "version": 3
   },
   "file_extension": ".py",
   "mimetype": "text/x-python",
   "name": "python",
   "nbconvert_exporter": "python",
   "pygments_lexer": "ipython3",
   "version": "3.7.6"
  }
 },
 "nbformat": 4,
 "nbformat_minor": 1
}
